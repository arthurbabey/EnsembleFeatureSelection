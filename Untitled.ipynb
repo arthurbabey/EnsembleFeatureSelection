{
 "cells": [
  {
   "cell_type": "code",
   "execution_count": 1,
   "id": "c5dee05b-1dc7-40a9-84f5-68885e8c1816",
   "metadata": {},
   "outputs": [],
   "source": [
    "import numpy as np\n",
    "import pandas as pd"
   ]
  },
  {
   "cell_type": "code",
   "execution_count": 22,
   "id": "68eb8231-93b3-41fd-b443-2780224f5ae0",
   "metadata": {},
   "outputs": [
    {
     "name": "stdout",
     "output_type": "stream",
     "text": [
      "Dictionary 1: {('group1', 1): 53, ('group1', 2): 64, ('group1', 3): 44, ('group2', 1): 87, ('group2', 2): 51, ('group2', 3): 54, ('group3', 1): 74, ('group3', 2): 45, ('group3', 3): 53, ('group4', 1): 3, ('group4', 2): 43, ('group4', 3): 32}\n",
      "Dictionary 2: {('group1', 1): 29, ('group1', 2): 74, ('group1', 3): 91, ('group2', 1): 97, ('group2', 2): 41, ('group2', 3): 33, ('group3', 1): 82, ('group3', 2): 41, ('group3', 3): 59, ('group4', 1): 55, ('group4', 2): 52, ('group4', 3): 83}\n",
      "Dictionary 3: {('group1', 1): 15, ('group1', 2): 53, ('group1', 3): 53, ('group2', 1): 25, ('group2', 2): 27, ('group2', 3): 23, ('group3', 1): 51, ('group3', 2): 20, ('group3', 3): 25, ('group4', 1): 30, ('group4', 2): 54, ('group4', 3): 76}\n",
      "Dictionary 4: {('group1', 1): 68, ('group1', 2): 81, ('group1', 3): 100, ('group2', 1): 8, ('group2', 2): 92, ('group2', 3): 15, ('group3', 1): 36, ('group3', 2): 86, ('group3', 3): 67, ('group4', 1): 36, ('group4', 2): 57, ('group4', 3): 86}\n"
     ]
    }
   ],
   "source": [
    "import random\n",
    "\n",
    "# Define the list of dictionaries\n",
    "list_of_dicts = [{} for _ in range(4)]\n",
    "\n",
    "# Define the keys\n",
    "keys = [(f\"group{i+1}\", j+1) for i in range(4) for j in range(3)]\n",
    "\n",
    "# Populate the dictionaries with random values\n",
    "for d in list_of_dicts:\n",
    "    for key in keys:\n",
    "        d[key] = random.randint(1, 100)  # Random value between 1 and 100\n",
    "\n",
    "# Print the list of dictionaries\n",
    "for i, d in enumerate(list_of_dicts, 1):\n",
    "    print(f\"Dictionary {i}: {d}\")\n"
   ]
  },
  {
   "cell_type": "code",
   "execution_count": 23,
   "id": "5b1c6b87-1408-42c4-8bea-196529e92519",
   "metadata": {},
   "outputs": [
    {
     "data": {
      "text/plain": [
       "92.0"
      ]
     },
     "execution_count": 23,
     "metadata": {},
     "output_type": "execute_result"
    }
   ],
   "source": [
    "(99+98+79) / 3"
   ]
  },
  {
   "cell_type": "code",
   "execution_count": 28,
   "id": "e60eb5a6-47c3-4d79-a3b3-c91dec4113a7",
   "metadata": {},
   "outputs": [
    {
     "name": "stdout",
     "output_type": "stream",
     "text": [
      "[[53.666666666666664, 64.66666666666667, 40.333333333333336, 83.0], [64.0, 57.0, 25.0, 38.333333333333336], [57.333333333333336, 60.666666666666664, 32.0, 63.0], [26.0, 63.333333333333336, 53.333333333333336, 59.666666666666664]]\n"
     ]
    }
   ],
   "source": [
    "import numpy as np\n",
    "\n",
    "def calculate_means(list_of_dicts):\n",
    "    \"\"\"\n",
    "    Calculate means for each group across dictionaries in a list of dictionaries.\n",
    "\n",
    "    Args:\n",
    "    - list_of_dicts (list): A list of dictionaries containing key-value pairs.\n",
    "\n",
    "    Returns:\n",
    "    - means_list (list): A list of lists containing means for each group across dictionaries.\n",
    "    \"\"\"\n",
    "    # Calculate means for each group across dictionaries\n",
    "    means_list = []\n",
    "    for group_num in range(1, 5):  # Iterate over group numbers 1 to 4\n",
    "        group_means = []  # Store means for current group\n",
    "        for d in list_of_dicts:\n",
    "            # Filter dictionary keys by current group number and calculate mean\n",
    "            group_values = [value for key, value in d.items() if key[0] == f\"group{group_num}\"]\n",
    "            group_mean = np.mean(group_values) if group_values else np.nan  # Use np.nan if no values found\n",
    "            group_means.append(group_mean)\n",
    "        means_list.append(group_means)\n",
    "    return means_list\n",
    "\n",
    "# Example usage:\n",
    "means_list = calculate_means(list_of_dicts)\n",
    "print(means_list)\n"
   ]
  },
  {
   "cell_type": "code",
   "execution_count": 25,
   "id": "a281755f-4c8a-44c3-90da-44af7eb5135c",
   "metadata": {},
   "outputs": [
    {
     "name": "stdout",
     "output_type": "stream",
     "text": [
      "Group 1 means: [53.666666666666664, 64.66666666666667, 40.333333333333336, 83.0]\n",
      "Group 2 means: [64.0, 57.0, 25.0, 38.333333333333336]\n",
      "Group 3 means: [57.333333333333336, 60.666666666666664, 32.0, 63.0]\n",
      "Group 4 means: [26.0, 63.333333333333336, 53.333333333333336, 59.666666666666664]\n"
     ]
    }
   ],
   "source": [
    "# Importing required library\n",
    "import numpy as np\n",
    "\n",
    "# Calculate means for each group across dictionaries\n",
    "means_list = []\n",
    "for group_num in range(1, 5):  # Iterate over group numbers 1 to 4\n",
    "    group_means = []  # Store means for current group\n",
    "    for d in list_of_dicts:\n",
    "        # Filter dictionary keys by current group number and calculate mean\n",
    "        group_values = [value for key, value in d.items() if key[0] == f\"group{group_num}\"]\n",
    "        group_mean = np.mean(group_values) if group_values else np.nan  # Use np.nan if no values found\n",
    "        group_means.append(group_mean)\n",
    "    means_list.append(group_means)\n",
    "\n",
    "# Print the list of means\n",
    "for i, means in enumerate(means_list, 1):\n",
    "    print(f\"Group {i} means: {means}\")\n"
   ]
  },
  {
   "cell_type": "code",
   "execution_count": 29,
   "id": "e0148a9b-951c-4cf9-b50d-f58469375964",
   "metadata": {},
   "outputs": [
    {
     "data": {
      "text/plain": [
       "[[53.666666666666664, 64.66666666666667, 40.333333333333336, 83.0],\n",
       " [64.0, 57.0, 25.0, 38.333333333333336],\n",
       " [57.333333333333336, 60.666666666666664, 32.0, 63.0],\n",
       " [26.0, 63.333333333333336, 53.333333333333336, 59.666666666666664]]"
      ]
     },
     "execution_count": 29,
     "metadata": {},
     "output_type": "execute_result"
    }
   ],
   "source": [
    "means_list # mean acc for group1, mean auroc for group1"
   ]
  },
  {
   "cell_type": "code",
   "execution_count": 43,
   "id": "f20d0572-a493-45b3-96da-5659efead38a",
   "metadata": {},
   "outputs": [
    {
     "ename": "TypeError",
     "evalue": "unhashable type: 'list'",
     "output_type": "error",
     "traceback": [
      "\u001b[0;31m---------------------------------------------------------------------------\u001b[0m",
      "\u001b[0;31mTypeError\u001b[0m                                 Traceback (most recent call last)",
      "Cell \u001b[0;32mIn[43], line 40\u001b[0m\n\u001b[1;32m     38\u001b[0m \u001b[38;5;28;01mfor\u001b[39;00m d \u001b[38;5;129;01min\u001b[39;00m list_of_dicts:\n\u001b[1;32m     39\u001b[0m     \u001b[38;5;28;01mfor\u001b[39;00m key \u001b[38;5;129;01min\u001b[39;00m keys:\n\u001b[0;32m---> 40\u001b[0m         \u001b[43md\u001b[49m\u001b[43m[\u001b[49m\u001b[43mkey\u001b[49m\u001b[43m]\u001b[49m \u001b[38;5;241m=\u001b[39m random\u001b[38;5;241m.\u001b[39mrandint(\u001b[38;5;241m1\u001b[39m, \u001b[38;5;241m100\u001b[39m)  \u001b[38;5;66;03m# Random value between 1 and 100\u001b[39;00m\n\u001b[1;32m     42\u001b[0m group_names \u001b[38;5;241m=\u001b[39m [\u001b[38;5;124m\"\u001b[39m\u001b[38;5;124mgroup1\u001b[39m\u001b[38;5;124m\"\u001b[39m, \u001b[38;5;124m\"\u001b[39m\u001b[38;5;124mgroup2\u001b[39m\u001b[38;5;124m\"\u001b[39m, \u001b[38;5;124m\"\u001b[39m\u001b[38;5;124mgroup3\u001b[39m\u001b[38;5;124m\"\u001b[39m, \u001b[38;5;124m\"\u001b[39m\u001b[38;5;124mgroup4\u001b[39m\u001b[38;5;124m\"\u001b[39m]  \u001b[38;5;66;03m# Your list of group names\u001b[39;00m\n\u001b[1;32m     43\u001b[0m means_list \u001b[38;5;241m=\u001b[39m calculate_means(list_of_dicts, group_names)\n",
      "\u001b[0;31mTypeError\u001b[0m: unhashable type: 'list'"
     ]
    }
   ],
   "source": [
    "import numpy as np\n",
    "\n",
    "def calculate_means(list_of_dicts, group_names):\n",
    "    \"\"\"\n",
    "    Calculate means for each group across dictionaries in a list of dictionaries.\n",
    "\n",
    "    Args:\n",
    "    - list_of_dicts (list): A list of dictionaries containing key-value pairs.\n",
    "    - group_names (list): A list of group names.\n",
    "\n",
    "    Returns:\n",
    "    - means_list (list): A list of lists containing means for each group across dictionaries.\n",
    "    \"\"\"\n",
    "    # Calculate means for each group across dictionaries\n",
    "    means_list = []\n",
    "    for group_name in group_names:\n",
    "        group_means = []  # Store means for current group\n",
    "        for d in list_of_dicts:\n",
    "            # Filter dictionary keys by current group name and calculate mean\n",
    "            group_values = [value for key, value in d.items() if key[0] == group_name]\n",
    "            group_mean = np.mean(group_values) if group_values else np.nan  # Use np.nan if no values found\n",
    "            group_means.append(group_mean)\n",
    "        means_list.append(group_means)\n",
    "    return means_list\n",
    "\n",
    "\n",
    "\n",
    "\n",
    "import random\n",
    "\n",
    "# Define the list of dictionaries\n",
    "list_of_dicts = [{} for _ in range(4)]\n",
    "\n",
    "# Define the keys\n",
    "keys = [[\"svm\", \"xgboost\"], [\"ffgg\", \"xgboost\"], [\"svm\", \"ssssfs\"]]\n",
    "\n",
    "# Populate the dictionaries with random values\n",
    "for d in list_of_dicts:\n",
    "    for key in keys:\n",
    "        d[key] = random.randint(1, 100)  # Random value between 1 and 100\n",
    "    \n",
    "group_names = [\"group1\", \"group2\", \"group3\", \"group4\"]  # Your list of group names\n",
    "means_list = calculate_means(list_of_dicts, group_names)\n",
    "means_list"
   ]
  },
  {
   "cell_type": "code",
   "execution_count": 46,
   "id": "c78cb055-48d4-4458-bf2e-ceac74f84014",
   "metadata": {},
   "outputs": [
    {
     "name": "stdout",
     "output_type": "stream",
     "text": [
      "['svm-xgboost', 'svm-f_statistic', 'xgboost-f_statistic', 'svm-xgboost-f_statistic']\n"
     ]
    }
   ],
   "source": [
    "group_names = [('svm', 'xgboost'), ('svm', 'f_statistic'), ('xgboost', 'f_statistic'), ('svm', 'xgboost', 'f_statistic')]\n",
    "modified_group_names = ['-'.join(group) for group in group_names]\n",
    "\n",
    "print(modified_group_names)\n"
   ]
  },
  {
   "cell_type": "code",
   "execution_count": 40,
   "id": "6b079c97-684f-45c1-8b9f-dbd94a94ad8e",
   "metadata": {},
   "outputs": [
    {
     "name": "stdout",
     "output_type": "stream",
     "text": [
      "[[nan, nan, nan, nan], [nan, nan, nan, nan]]\n"
     ]
    }
   ],
   "source": [
    "import numpy as np\n",
    "\n",
    "def calculate_means(list_of_dicts, group_names):\n",
    "    \"\"\"\n",
    "    Calculate means for each group across dictionaries in a list of dictionaries.\n",
    "\n",
    "    Args:\n",
    "    - list_of_dicts (list): A list of dictionaries containing key-value pairs.\n",
    "    - group_names (list): A list of group names, where each group name is a list of strings.\n",
    "\n",
    "    Returns:\n",
    "    - means_list (list): A list of lists containing means for each group across dictionaries.\n",
    "    \"\"\"\n",
    "    # Calculate means for each group across dictionaries\n",
    "    means_list = []\n",
    "    for group_name in group_names:\n",
    "        group_means = []  # Store means for current group\n",
    "        for d in list_of_dicts:\n",
    "            # Filter dictionary keys by current group name and calculate mean\n",
    "            group_values = [value for key, value in d.items() if key[1] in group_name]\n",
    "            group_mean = np.mean(group_values) if group_values else np.nan  # Use np.nan if no values found\n",
    "            group_means.append(group_mean)\n",
    "        means_list.append(group_means)\n",
    "    return means_list\n",
    "\n",
    "# Example usage:\n",
    "group_names = [[\"svm\"], [\"xgboost\"]]  # Your list of group names, where each group name is a list of strings\n",
    "means_list = calculate_means(list_of_dicts, group_names)\n",
    "print(means_list)\n"
   ]
  },
  {
   "cell_type": "code",
   "execution_count": 54,
   "id": "9fc12fb1-3cf6-4e55-a585-3e6819a8490c",
   "metadata": {},
   "outputs": [
    {
     "name": "stdout",
     "output_type": "stream",
     "text": [
      "Dictionary 1: {(1, ('svm', 'xgboost')): 56, (1, ('xgboost', 'f_statistic')): 47, (1, ('svm', 'xgboost', 'f_statistic')): 65}\n",
      "Dictionary 2: {(2, ('svm', 'xgboost')): 50, (2, ('xgboost', 'f_statistic')): 30, (2, ('svm', 'xgboost', 'f_statistic')): 73}\n",
      "Dictionary 3: {(3, ('svm', 'xgboost')): 97, (3, ('xgboost', 'f_statistic')): 41, (3, ('svm', 'xgboost', 'f_statistic')): 57}\n",
      "Dictionary 4: {(4, ('svm', 'xgboost')): 7, (4, ('xgboost', 'f_statistic')): 73, (4, ('svm', 'xgboost', 'f_statistic')): 46}\n"
     ]
    }
   ],
   "source": [
    "import random\n",
    "\n",
    "# Sample list of method combinations\n",
    "method_combinations = [('svm', 'xgboost'), ('xgboost', 'f_statistic'), ('svm', 'xgboost', 'f_statistic')]\n",
    "\n",
    "# Define the list of dictionaries\n",
    "list_of_dicts = [{} for _ in range(4)]\n",
    "\n",
    "# Populate the dictionaries with random values\n",
    "for i, d in enumerate(list_of_dicts, 1):\n",
    "    for method_combination in method_combinations:\n",
    "        # Create a string representation of the method combination\n",
    "        method_key = '-'.join(method_combination)\n",
    "        # Add a tuple key with integer and method combination tuple\n",
    "        d[(i, method_combination)] = random.randint(1, 100)  # Random value between 1 and 100\n",
    "\n",
    "# Print the list of dictionaries\n",
    "for i, d in enumerate(list_of_dicts, 1):\n",
    "    print(f\"Dictionary {i}: {d}\")\n",
    "\n"
   ]
  },
  {
   "cell_type": "code",
   "execution_count": 55,
   "id": "7b2b659a-1212-4e3d-9c8c-e04eb13a0070",
   "metadata": {},
   "outputs": [
    {
     "name": "stdout",
     "output_type": "stream",
     "text": [
      "[('svm', 'xgboost'), ('xgboost', 'f_statistic'), ('svm', 'xgboost', 'f_statistic')]\n",
      "[[56.0, 50.0, 97.0, 7.0], [47.0, 30.0, 41.0, 73.0], [65.0, 73.0, 57.0, 46.0]]\n"
     ]
    }
   ],
   "source": [
    "import numpy as np\n",
    "\n",
    "def calculate_means(list_of_dicts, group_names):\n",
    "    \"\"\"\n",
    "    Calculate means for each group across dictionaries in a list of dictionaries.\n",
    "\n",
    "    Args:\n",
    "    - list_of_dicts (list): A list of dictionaries containing key-value pairs.\n",
    "    - group_names (list): A list of group names, where each group name is a tuple of strings.\n",
    "\n",
    "    Returns:\n",
    "    - means_list (list): A list of lists containing means for each group across dictionaries.\n",
    "    \"\"\"\n",
    "    # Initialize means list\n",
    "    means_list = []\n",
    "\n",
    "    # Calculate means for each group\n",
    "    for group_name in group_names:\n",
    "        group_means = []  # Store means for current group\n",
    "\n",
    "        # Iterate over dictionaries\n",
    "        for d in list_of_dicts:\n",
    "            # Filter dictionary keys by current group name and calculate mean\n",
    "            group_values = [value for key, value in d.items() if key[1] == group_name]\n",
    "            group_mean = np.mean(group_values) if group_values else np.nan  # Use np.nan if no values found\n",
    "            group_means.append(group_mean)\n",
    "\n",
    "        # Append group means to the means list\n",
    "        means_list.append(group_means)\n",
    "\n",
    "    return means_list\n",
    "\n",
    "\n",
    "# Sample list of method combinations\n",
    "method_combinations = [('svm', 'xgboost'), ('xgboost', 'f_statistic'), ('svm', 'xgboost', 'f_statistic')]\n",
    "\n",
    "# Define group names as a list of tuples\n",
    "#group_names = [(i, method_combination) for i in range(1, 5) for method_combination in method_combinations]\n",
    "print(method_combinations)\n",
    "\n",
    "means_list = calculate_means(list_of_dicts, method_combinations)\n",
    "print(means_list)\n"
   ]
  },
  {
   "cell_type": "code",
   "execution_count": 62,
   "id": "8ec2f935-cebd-484b-b9de-af506b0be57f",
   "metadata": {},
   "outputs": [
    {
     "data": {
      "text/plain": [
       "[[56.0, 50.0, 97.0, 7.0, 0],\n",
       " [47.0, 30.0, 41.0, 73.0, 0],\n",
       " [65.0, 73.0, 57.0, 46.0, 0]]"
      ]
     },
     "execution_count": 62,
     "metadata": {},
     "output_type": "execute_result"
    }
   ],
   "source": [
    "means_list"
   ]
  },
  {
   "cell_type": "code",
   "execution_count": 78,
   "id": "e2954f7d-70d9-4654-a3ef-f2ff134e2cb2",
   "metadata": {},
   "outputs": [
    {
     "data": {
      "text/plain": [
       "[('svm', 'xgboost'),\n",
       " ('xgboost', 'f_statistic'),\n",
       " ('svm', 'xgboost', 'f_statistic')]"
      ]
     },
     "execution_count": 78,
     "metadata": {},
     "output_type": "execute_result"
    }
   ],
   "source": [
    "method_combinations"
   ]
  },
  {
   "cell_type": "code",
   "execution_count": 71,
   "id": "f69d0464-2c58-4c48-be61-e68f7e6ba2dc",
   "metadata": {},
   "outputs": [],
   "source": [
    "means_list2 = [mean + [len(group_name)] for mean, group_name in zip(means_list, method_combinations)]"
   ]
  },
  {
   "cell_type": "code",
   "execution_count": 72,
   "id": "ed73a25d-a2dc-47c0-9566-2de5e62fbf84",
   "metadata": {},
   "outputs": [
    {
     "data": {
      "text/plain": [
       "[[56.0, 50.0, 97.0, 7.0, 0, '0', 2.0, 2],\n",
       " [47.0, 30.0, 41.0, 73.0, 0, '0', 2.0, 2],\n",
       " [65.0, 73.0, 57.0, 46.0, 0, '0', 2.0, 3]]"
      ]
     },
     "execution_count": 72,
     "metadata": {},
     "output_type": "execute_result"
    }
   ],
   "source": [
    "means_list2"
   ]
  },
  {
   "cell_type": "code",
   "execution_count": 75,
   "id": "1f38e5fc-43ff-4ea6-8a4d-e29f37e3c6f3",
   "metadata": {},
   "outputs": [],
   "source": [
    "metrics_names = method_combinations + [('number of methods')]\n"
   ]
  },
  {
   "cell_type": "code",
   "execution_count": 76,
   "id": "a9a35ddb-88b4-4264-956b-9047cbc20640",
   "metadata": {},
   "outputs": [
    {
     "data": {
      "text/plain": [
       "[('svm', 'xgboost'),\n",
       " ('xgboost', 'f_statistic'),\n",
       " ('svm', 'xgboost', 'f_statistic'),\n",
       " 'number of methods']"
      ]
     },
     "execution_count": 76,
     "metadata": {},
     "output_type": "execute_result"
    }
   ],
   "source": [
    "metrics_names"
   ]
  },
  {
   "cell_type": "code",
   "execution_count": null,
   "id": "7407c38d-facd-4476-895a-316f134707db",
   "metadata": {},
   "outputs": [],
   "source": []
  }
 ],
 "metadata": {
  "kernelspec": {
   "display_name": "Python 3 (ipykernel)",
   "language": "python",
   "name": "python3"
  },
  "language_info": {
   "codemirror_mode": {
    "name": "ipython",
    "version": 3
   },
   "file_extension": ".py",
   "mimetype": "text/x-python",
   "name": "python",
   "nbconvert_exporter": "python",
   "pygments_lexer": "ipython3",
   "version": "3.8.10"
  }
 },
 "nbformat": 4,
 "nbformat_minor": 5
}
